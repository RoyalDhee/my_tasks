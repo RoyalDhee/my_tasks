{
 "cells": [
  {
   "cell_type": "markdown",
   "id": "2559fc69",
   "metadata": {},
   "source": [
    "## Task 16"
   ]
  },
  {
   "cell_type": "markdown",
   "id": "68483e76",
   "metadata": {},
   "source": [
    "### Linear Algebra"
   ]
  },
  {
   "cell_type": "markdown",
   "id": "f3a10abc",
   "metadata": {},
   "source": [
    "Given 2 matrices,\\\n",
    "Let\n",
    "\n",
    "$$\n",
    "A = \\begin{bmatrix}\n",
    "2 & -1 \\\\\n",
    "0 & 3\n",
    "\\end{bmatrix}\n",
    "$$\n",
    "\n",
    "\n",
    "$$\n",
    "B = \\begin{bmatrix}\n",
    "1 & 4 \\\\\n",
    "-2 & 5\n",
    "\\end{bmatrix}\n",
    "$$\n",
    "\n",
    "And the scalers (c = 2), (d = 3)\n",
    "\n",
    "a. Compute the following: (cA), (dB), and (c + d)A\n",
    "b. using the results gotten, verify the scalar multiplication\n",
    "c. find the transpose of both matrices\n",
    "d. check if (A) and (B) are invertible by computing the determinants. if they are invertible, find $$ A^{-1} $$ and $$ B^{-1} $$"
   ]
  },
  {
   "cell_type": "code",
   "execution_count": 4,
   "id": "245e2151",
   "metadata": {},
   "outputs": [
    {
     "name": "stdout",
     "output_type": "stream",
     "text": [
      "Matrix A:\n",
      "[[ 2 -1]\n",
      " [ 0  3]]\n",
      "Matrix B:\n",
      "[[ 1  4]\n",
      " [-2  5]]\n",
      "c = 2 and d = 3\n"
     ]
    }
   ],
   "source": [
    "import numpy as np\n",
    "\n",
    "# Defining matrix parameters\n",
    "A = np.array([[2, -1],\n",
    "              [0, 3]])\n",
    "\n",
    "B = np.array([[1, 4],\n",
    "              [-2, 5]])\n",
    "\n",
    "# Defining scalar\n",
    "c, d = 2, 3\n",
    "\n",
    "print(\"Matrix A:\")\n",
    "print(A)\n",
    "print(\"Matrix B:\")\n",
    "print(B)\n",
    "print(f\"c = {c} and d = {d}\")"
   ]
  },
  {
   "cell_type": "markdown",
   "id": "99363de7",
   "metadata": {},
   "source": [
    "##### a."
   ]
  },
  {
   "cell_type": "code",
   "execution_count": null,
   "id": "41417de0",
   "metadata": {},
   "outputs": [
    {
     "name": "stdout",
     "output_type": "stream",
     "text": [
      "cA is:\n",
      " [[ 4 -2]\n",
      " [ 0  6]]\n",
      "dB is:\n",
      " [[ 3 12]\n",
      " [-6 15]]\n",
      "(c + d)A is:\n",
      " [[10 -5]\n",
      " [ 0 15]]\n"
     ]
    }
   ],
   "source": [
    "# Computing cA\n",
    "cA = c * A\n",
    "\n",
    "# Computing cB\n",
    "dB = d * B\n",
    "\n",
    "# Computing (c + d)A\n",
    "add = (c + d) * A\n",
    "\n",
    "print(f\"cA is:\\n {cA}\")\n",
    "print(f\"dB is:\\n {dB}\")\n",
    "print(f\"(c + d)A is:\\n {add}\")\n"
   ]
  },
  {
   "cell_type": "markdown",
   "id": "ac6c2bbb",
   "metadata": {},
   "source": [
    "#### b."
   ]
  },
  {
   "cell_type": "code",
   "execution_count": 25,
   "id": "bb9354a4",
   "metadata": {},
   "outputs": [
    {
     "name": "stdout",
     "output_type": "stream",
     "text": [
      "Associativity of Scalar Multiplication: \n",
      "(c.d)A = c.(dA) is True\n",
      "Distributivity over Matrix addition: \n",
      "c(A + B) = cA + cB is True\n",
      "Distributivity over Scalar addition: \n",
      "(c + d)A = cA + dA is True\n"
     ]
    }
   ],
   "source": [
    "# Scalar Multiplication Properties\n",
    "# Scalar multiplication properties are\n",
    "# Associativity of sclar multiplication: (c.d)A = c.(dA)\n",
    "# Distributivity over matrix addition: c(A + B) = cA + cB\n",
    "# Distributivity over scalar addition: (c + d)A = cA + dA\n",
    "\n",
    "# Associativity of Scalar Multiplication\n",
    "left = (c * d) * A\n",
    "right = c * (d * A)\n",
    "\n",
    "# Distributivity over matrix addition\n",
    "dist_left = c * (A + B)\n",
    "dist_right = c * A + c * B\n",
    "\n",
    "\n",
    "# Distributivity over scalar \n",
    "scalar_left = (c + d) * A\n",
    "scalar_right = c*A + d*A\n",
    "\n",
    "print(f\"Associativity of Scalar Multiplication: \\n(c.d)A = c.(dA) is {np.array_equal(left, right)}\")\n",
    "print(f\"Distributivity over Matrix addition: \\nc(A + B) = cA + cB is {np.array_equal(dist_left, dist_right)}\")\n",
    "print(f\"Distributivity over Scalar addition: \\n(c + d)A = cA + dA is {np.array_equal(scalar_left, scalar_right)}\")\n"
   ]
  }
 ],
 "metadata": {
  "kernelspec": {
   "display_name": "tasks",
   "language": "python",
   "name": "python3"
  },
  "language_info": {
   "codemirror_mode": {
    "name": "ipython",
    "version": 3
   },
   "file_extension": ".py",
   "mimetype": "text/x-python",
   "name": "python",
   "nbconvert_exporter": "python",
   "pygments_lexer": "ipython3",
   "version": "3.13.7"
  }
 },
 "nbformat": 4,
 "nbformat_minor": 5
}
