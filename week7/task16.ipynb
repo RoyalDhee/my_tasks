{
 "cells": [
  {
   "cell_type": "markdown",
   "id": "2559fc69",
   "metadata": {},
   "source": [
    "## Task 16"
   ]
  },
  {
   "cell_type": "markdown",
   "id": "68483e76",
   "metadata": {},
   "source": [
    "### Linear Algebra"
   ]
  },
  {
   "cell_type": "markdown",
   "id": "f3a10abc",
   "metadata": {},
   "source": [
    "Given 2 matrices,\\\n",
    "Let\n",
    "\n",
    "$$\n",
    "A = \\begin{bmatrix}\n",
    "2 & -1 \\\\\n",
    "0 & 3\n",
    "\\end{bmatrix}\n",
    "$$\n",
    "\n",
    "\n",
    "$$\n",
    "B = \\begin{bmatrix}\n",
    "1 & 4 \\\\\n",
    "-2 & 5\n",
    "\\end{bmatrix}\n",
    "$$\n",
    "\n",
    "And the scalers (c = 2), (d = 3)\n",
    "\n",
    "a. Compute the following: (cA), (dB), and (c + d)A\n",
    "b. using the results gotten, verify the scalar multiplication\n",
    "c. find the transpose of both matrices\n",
    "d. check if (A) and (B) are invertible by computing the determinants. if they are invertible, find $$ A^{-1} $$ and $$ B^{-1} $$"
   ]
  },
  {
   "cell_type": "code",
   "execution_count": 4,
   "id": "245e2151",
   "metadata": {},
   "outputs": [
    {
     "name": "stdout",
     "output_type": "stream",
     "text": [
      "Matrix A:\n",
      "[[ 2 -1]\n",
      " [ 0  3]]\n",
      "Matrix B:\n",
      "[[ 1  4]\n",
      " [-2  5]]\n",
      "c = 2 and d = 3\n"
     ]
    }
   ],
   "source": [
    "import numpy as np\n",
    "\n",
    "# Defining matrix parameters\n",
    "A = np.array([[2, -1],\n",
    "              [0, 3]])\n",
    "\n",
    "B = np.array([[1, 4],\n",
    "              [-2, 5]])\n",
    "\n",
    "# Defining scalar\n",
    "c, d = 2, 3\n",
    "\n",
    "print(\"Matrix A:\")\n",
    "print(A)\n",
    "print(\"Matrix B:\")\n",
    "print(B)\n",
    "print(f\"c = {c} and d = {d}\")"
   ]
  },
  {
   "cell_type": "markdown",
   "id": "99363de7",
   "metadata": {},
   "source": [
    "##### a."
   ]
  },
  {
   "cell_type": "code",
   "execution_count": null,
   "id": "41417de0",
   "metadata": {},
   "outputs": [
    {
     "name": "stdout",
     "output_type": "stream",
     "text": [
      "cA is:\n",
      " [[ 4 -2]\n",
      " [ 0  6]]\n",
      "dB is:\n",
      " [[ 3 12]\n",
      " [-6 15]]\n",
      "(c + d)A is:\n",
      " [[10 -5]\n",
      " [ 0 15]]\n"
     ]
    }
   ],
   "source": [
    "# Computing cA\n",
    "cA = c * A\n",
    "\n",
    "# Computing cB\n",
    "dB = d * B\n",
    "\n",
    "# Computing (c + d)A\n",
    "add = (c + d) * A\n",
    "\n",
    "print(f\"cA is:\\n {cA}\")\n",
    "print(f\"dB is:\\n {dB}\")\n",
    "print(f\"(c + d)A is:\\n {add}\")\n"
   ]
  },
  {
   "cell_type": "markdown",
   "id": "ac6c2bbb",
   "metadata": {},
   "source": [
    "#### b."
   ]
  },
  {
   "cell_type": "code",
   "execution_count": 27,
   "id": "bb9354a4",
   "metadata": {},
   "outputs": [
    {
     "name": "stdout",
     "output_type": "stream",
     "text": [
      "(c x d)A = \n",
      "[[12 -6]\n",
      " [ 0 18]]\n",
      "c(dA) = \n",
      "[[12 -6]\n",
      " [ 0 18]]\n",
      "Associativity of Scalar Multiplication: \n",
      "(c.d)A = c.(dA) is True\n"
     ]
    }
   ],
   "source": [
    "# Scalar Multiplication Properties\n",
    "# Scalar multiplication properties are\n",
    "# Associativity of sclar multiplication: (c.d)A = c.(dA)\n",
    "# Distributivity over matrix addition: c(A + B) = cA + cB\n",
    "# Distributivity over scalar addition: (c + d)A = cA + dA\n",
    "\n",
    "# Associativity of Scalar Multiplication\n",
    "left = (c * d) * A\n",
    "right = c * (d * A)\n",
    "\n",
    "print(f\"(c x d)A = \\n{left}\")\n",
    "print(f\"c(dA) = \\n{right}\")\n",
    "print(f\"Associativity of Scalar Multiplication: \\n(c.d)A = c.(dA) is {np.array_equal(left, right)}\")\n",
    "\n",
    "\n",
    "\n"
   ]
  },
  {
   "cell_type": "code",
   "execution_count": 25,
   "id": "ac1168f5",
   "metadata": {},
   "outputs": [
    {
     "name": "stdout",
     "output_type": "stream",
     "text": [
      "c(A + B) = \n",
      "[[ 6  6]\n",
      " [-4 16]]\n",
      "cA + cB = \n",
      "[[ 6  6]\n",
      " [-4 16]]\n",
      "Distributivity over Matrix addition: \n",
      "c(A + B) = cA + cB is True\n"
     ]
    }
   ],
   "source": [
    "# Distributivity over matrix addition\n",
    "dist_left = c * (A + B)\n",
    "dist_right = c * A + c * B\n",
    "\n",
    "print(f\"c(A + B) = \\n{dist_left}\")\n",
    "print(f\"cA + cB = \\n{dist_right}\")\n",
    "print(f\"Distributivity over Matrix addition: \\nc(A + B) = cA + cB is {np.array_equal(dist_left, dist_right)}\")"
   ]
  },
  {
   "cell_type": "code",
   "execution_count": 26,
   "id": "91418524",
   "metadata": {},
   "outputs": [
    {
     "name": "stdout",
     "output_type": "stream",
     "text": [
      "(c + d)A = \n",
      "[[10 -5]\n",
      " [ 0 15]]\n",
      "cA + dA = \n",
      "[[10 -5]\n",
      " [ 0 15]]\n",
      "Distributivity over Scalar addition: \n",
      "(c + d)A = cA + dA is True\n"
     ]
    }
   ],
   "source": [
    "# Distributivity over scalar \n",
    "scalar_left = (c + d) * A\n",
    "scalar_right = c*A + d*A\n",
    "\n",
    "print(f\"(c + d)A = \\n{scalar_left}\")\n",
    "print(f\"cA + dA = \\n{scalar_right}\")\n",
    "print(f\"Distributivity over Scalar addition: \\n(c + d)A = cA + dA is {np.array_equal(scalar_left, scalar_right)}\")"
   ]
  },
  {
   "cell_type": "markdown",
   "id": "c0c55305",
   "metadata": {},
   "source": [
    "#### c."
   ]
  },
  {
   "cell_type": "code",
   "execution_count": 9,
   "id": "8ce5c7e9",
   "metadata": {},
   "outputs": [
    {
     "name": "stdout",
     "output_type": "stream",
     "text": [
      "Transpose of Matrix A:\n",
      " [[ 2  0]\n",
      " [-1  3]]\n",
      "Transpose of Matrix B:\n",
      " [[ 1 -2]\n",
      " [ 4  5]]\n"
     ]
    }
   ],
   "source": [
    "# Transpose of Matrix A\n",
    "print(f\"Transpose of Matrix A:\\n {A.T}\")\n",
    "\n",
    "# Transpose of Matrix B\n",
    "print(f\"Transpose of Matrix B:\\n {B.T}\")"
   ]
  },
  {
   "cell_type": "markdown",
   "id": "ad545c8f",
   "metadata": {},
   "source": [
    "#### d."
   ]
  },
  {
   "cell_type": "code",
   "execution_count": 36,
   "id": "49305900",
   "metadata": {},
   "outputs": [
    {
     "name": "stdout",
     "output_type": "stream",
     "text": [
      " Determinant of Matrix A : \n",
      "6.0\n",
      "Is it invertible: True\n",
      "\n",
      " Determinant of Matrix B : \n",
      "13.0\n",
      "Is it invertible: True\n",
      "\n",
      "Since Matrix A and B are invertible, we can find the inverse\n"
     ]
    }
   ],
   "source": [
    "# Tocheck for A and B invertibility using Determinant\n",
    "\n",
    "detA = np.linalg.det(A)\n",
    "print(f\" Determinant of Matrix A : \\n{detA}\")\n",
    "print(f\"Is it invertible: {detA != 0}\\n\")\n",
    "\n",
    "\n",
    "detB = np.linalg.det(B)\n",
    "print(f\" Determinant of Matrix B : \\n{detB}\")\n",
    "print(f\"Is it invertible: {detB != 0}\\n\")\n",
    "print(f\"Since Matrix A and B are invertible, we can find the inverse\")\n",
    "\n",
    "# Since det(A) and det(B) != 0, Matrix A and B are invertible"
   ]
  },
  {
   "cell_type": "code",
   "execution_count": 38,
   "id": "2fe8e732",
   "metadata": {},
   "outputs": [
    {
     "name": "stdout",
     "output_type": "stream",
     "text": [
      "The inverse of Matrix A is \n",
      "[[0.5        0.16666667]\n",
      " [0.         0.33333333]]\n",
      "The inverse of Matrix B is \n",
      "[[ 0.38461538 -0.30769231]\n",
      " [ 0.15384615  0.07692308]]\n"
     ]
    }
   ],
   "source": [
    "# inverse of Matrix A\n",
    "print(f\"The inverse of Matrix A is \\n{np.linalg.inv(A)}\")\n",
    "\n",
    "# inverse of Matrix B\n",
    "print(f\"The inverse of Matrix B is \\n{np.linalg.inv(B)}\")"
   ]
  }
 ],
 "metadata": {
  "kernelspec": {
   "display_name": "tasks",
   "language": "python",
   "name": "python3"
  },
  "language_info": {
   "codemirror_mode": {
    "name": "ipython",
    "version": 3
   },
   "file_extension": ".py",
   "mimetype": "text/x-python",
   "name": "python",
   "nbconvert_exporter": "python",
   "pygments_lexer": "ipython3",
   "version": "3.13.7"
  }
 },
 "nbformat": 4,
 "nbformat_minor": 5
}
