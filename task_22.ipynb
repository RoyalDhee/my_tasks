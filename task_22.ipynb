{
 "cells": [
  {
   "cell_type": "code",
   "execution_count": 34,
   "id": "bf2c7450",
   "metadata": {},
   "outputs": [],
   "source": [
    "import pydantic\n",
    "import typing\n",
    "from typing import List, Optional, Dict\n",
    "from pydantic import BaseModel, Field, field_validator, ValidationError\n"
   ]
  },
  {
   "cell_type": "code",
   "execution_count": 35,
   "id": "4e87010c",
   "metadata": {},
   "outputs": [
    {
     "ename": "SchemaError",
     "evalue": "Error building \"model\" validator:\n  SchemaError: Error building \"model-fields\" validator:\n  SchemaError: Field \"username\":\n  SchemaError: Error building \"str\" validator:\n  SchemaError: regex parse error:\n    ^[A-Za-z0-9_-@]+$\n               ^^^\nerror: invalid character class range, the start must be <= the end",
     "output_type": "error",
     "traceback": [
      "\u001b[31m---------------------------------------------------------------------------\u001b[39m",
      "\u001b[31mSchemaError\u001b[39m                               Traceback (most recent call last)",
      "\u001b[36mCell\u001b[39m\u001b[36m \u001b[39m\u001b[32mIn[35]\u001b[39m\u001b[32m, line 1\u001b[39m\n\u001b[32m----> \u001b[39m\u001b[32m1\u001b[39m \u001b[38;5;28;43;01mclass\u001b[39;49;00m\u001b[38;5;250;43m \u001b[39;49m\u001b[34;43;01mUser\u001b[39;49;00m\u001b[43m(\u001b[49m\u001b[43mBaseModel\u001b[49m\u001b[43m)\u001b[49m\u001b[43m:\u001b[49m\n\u001b[32m      2\u001b[39m \u001b[43m  \u001b[49m\u001b[43musername\u001b[49m\u001b[43m:\u001b[49m\u001b[43m \u001b[49m\u001b[38;5;28;43mstr\u001b[39;49m\u001b[43m \u001b[49m\u001b[43m=\u001b[49m\u001b[43m \u001b[49m\u001b[43mField\u001b[49m\u001b[43m(\u001b[49m\u001b[43m.\u001b[49m\u001b[43m.\u001b[49m\u001b[43m.\u001b[49m\u001b[43m,\u001b[49m\u001b[43m \u001b[49m\u001b[43mmin_length\u001b[49m\u001b[43m=\u001b[49m\u001b[32;43m3\u001b[39;49m\u001b[43m,\u001b[49m\u001b[43m \u001b[49m\u001b[43mmax_length\u001b[49m\u001b[43m=\u001b[49m\u001b[32;43m15\u001b[39;49m\u001b[43m,\u001b[49m\u001b[43m \u001b[49m\u001b[43mpattern\u001b[49m\u001b[43m=\u001b[49m\u001b[33;43mr\u001b[39;49m\u001b[33;43m\"\u001b[39;49m\u001b[33;43m^[A-Za-z0-9_-@]+$\u001b[39;49m\u001b[33;43m\"\u001b[39;49m\u001b[43m)\u001b[49m\n\u001b[32m      3\u001b[39m \u001b[43m  \u001b[49m\u001b[43mpost\u001b[49m\u001b[43m:\u001b[49m\u001b[43m \u001b[49m\u001b[38;5;28;43mstr\u001b[39;49m\u001b[43m \u001b[49m\u001b[43m=\u001b[49m\u001b[43m \u001b[49m\u001b[43mField\u001b[49m\u001b[43m(\u001b[49m\u001b[43mmin_length\u001b[49m\u001b[43m=\u001b[49m\u001b[32;43m3\u001b[39;49m\u001b[43m,\u001b[49m\u001b[43m \u001b[49m\u001b[43mmax_length\u001b[49m\u001b[43m=\u001b[49m\u001b[43m \u001b[49m\u001b[32;43m280\u001b[39;49m\u001b[43m)\u001b[49m\n",
      "\u001b[36mFile \u001b[39m\u001b[32mc:\\Users\\USER\\AppData\\Local\\Programs\\Python\\Python313\\Lib\\site-packages\\pydantic\\_internal\\_model_construction.py:255\u001b[39m, in \u001b[36mModelMetaclass.__new__\u001b[39m\u001b[34m(mcs, cls_name, bases, namespace, __pydantic_generic_metadata__, __pydantic_reset_parent_namespace__, _create_model_module, **kwargs)\u001b[39m\n\u001b[32m    251\u001b[39m     set_model_mocks(\u001b[38;5;28mcls\u001b[39m)\n\u001b[32m    252\u001b[39m \u001b[38;5;28;01melse\u001b[39;00m:\n\u001b[32m    253\u001b[39m     \u001b[38;5;66;03m# Any operation that requires accessing the field infos instances should be put inside\u001b[39;00m\n\u001b[32m    254\u001b[39m     \u001b[38;5;66;03m# `complete_model_class()`:\u001b[39;00m\n\u001b[32m--> \u001b[39m\u001b[32m255\u001b[39m     \u001b[43mcomplete_model_class\u001b[49m\u001b[43m(\u001b[49m\n\u001b[32m    256\u001b[39m \u001b[43m        \u001b[49m\u001b[38;5;28;43mcls\u001b[39;49m\u001b[43m,\u001b[49m\n\u001b[32m    257\u001b[39m \u001b[43m        \u001b[49m\u001b[43mconfig_wrapper\u001b[49m\u001b[43m,\u001b[49m\n\u001b[32m    258\u001b[39m \u001b[43m        \u001b[49m\u001b[43mns_resolver\u001b[49m\u001b[43m,\u001b[49m\n\u001b[32m    259\u001b[39m \u001b[43m        \u001b[49m\u001b[43mraise_errors\u001b[49m\u001b[43m=\u001b[49m\u001b[38;5;28;43;01mFalse\u001b[39;49;00m\u001b[43m,\u001b[49m\n\u001b[32m    260\u001b[39m \u001b[43m        \u001b[49m\u001b[43mcreate_model_module\u001b[49m\u001b[43m=\u001b[49m\u001b[43m_create_model_module\u001b[49m\u001b[43m,\u001b[49m\n\u001b[32m    261\u001b[39m \u001b[43m    \u001b[49m\u001b[43m)\u001b[49m\n\u001b[32m    263\u001b[39m \u001b[38;5;28;01mif\u001b[39;00m config_wrapper.frozen \u001b[38;5;129;01mand\u001b[39;00m \u001b[33m'\u001b[39m\u001b[33m__hash__\u001b[39m\u001b[33m'\u001b[39m \u001b[38;5;129;01mnot\u001b[39;00m \u001b[38;5;129;01min\u001b[39;00m namespace:\n\u001b[32m    264\u001b[39m     set_default_hash_func(\u001b[38;5;28mcls\u001b[39m, bases)\n",
      "\u001b[36mFile \u001b[39m\u001b[32mc:\\Users\\USER\\AppData\\Local\\Programs\\Python\\Python313\\Lib\\site-packages\\pydantic\\_internal\\_model_construction.py:671\u001b[39m, in \u001b[36mcomplete_model_class\u001b[39m\u001b[34m(cls, config_wrapper, ns_resolver, raise_errors, call_on_complete_hook, create_model_module)\u001b[39m\n\u001b[32m    667\u001b[39m set_deprecated_descriptors(\u001b[38;5;28mcls\u001b[39m)\n\u001b[32m    669\u001b[39m \u001b[38;5;28mcls\u001b[39m.__pydantic_core_schema__ = schema\n\u001b[32m--> \u001b[39m\u001b[32m671\u001b[39m \u001b[38;5;28mcls\u001b[39m.__pydantic_validator__ = \u001b[43mcreate_schema_validator\u001b[49m\u001b[43m(\u001b[49m\n\u001b[32m    672\u001b[39m \u001b[43m    \u001b[49m\u001b[43mschema\u001b[49m\u001b[43m,\u001b[49m\n\u001b[32m    673\u001b[39m \u001b[43m    \u001b[49m\u001b[38;5;28;43mcls\u001b[39;49m\u001b[43m,\u001b[49m\n\u001b[32m    674\u001b[39m \u001b[43m    \u001b[49m\u001b[43mcreate_model_module\u001b[49m\u001b[43m \u001b[49m\u001b[38;5;129;43;01mor\u001b[39;49;00m\u001b[43m \u001b[49m\u001b[38;5;28;43mcls\u001b[39;49m\u001b[43m.\u001b[49m\u001b[34;43m__module__\u001b[39;49m\u001b[43m,\u001b[49m\n\u001b[32m    675\u001b[39m \u001b[43m    \u001b[49m\u001b[38;5;28;43mcls\u001b[39;49m\u001b[43m.\u001b[49m\u001b[34;43m__qualname__\u001b[39;49m\u001b[43m,\u001b[49m\n\u001b[32m    676\u001b[39m \u001b[43m    \u001b[49m\u001b[33;43m'\u001b[39;49m\u001b[33;43mcreate_model\u001b[39;49m\u001b[33;43m'\u001b[39;49m\u001b[43m \u001b[49m\u001b[38;5;28;43;01mif\u001b[39;49;00m\u001b[43m \u001b[49m\u001b[43mcreate_model_module\u001b[49m\u001b[43m \u001b[49m\u001b[38;5;28;43;01melse\u001b[39;49;00m\u001b[43m \u001b[49m\u001b[33;43m'\u001b[39;49m\u001b[33;43mBaseModel\u001b[39;49m\u001b[33;43m'\u001b[39;49m\u001b[43m,\u001b[49m\n\u001b[32m    677\u001b[39m \u001b[43m    \u001b[49m\u001b[43mcore_config\u001b[49m\u001b[43m,\u001b[49m\n\u001b[32m    678\u001b[39m \u001b[43m    \u001b[49m\u001b[43mconfig_wrapper\u001b[49m\u001b[43m.\u001b[49m\u001b[43mplugin_settings\u001b[49m\u001b[43m,\u001b[49m\n\u001b[32m    679\u001b[39m \u001b[43m\u001b[49m\u001b[43m)\u001b[49m\n\u001b[32m    680\u001b[39m \u001b[38;5;28mcls\u001b[39m.__pydantic_serializer__ = SchemaSerializer(schema, core_config)\n\u001b[32m    682\u001b[39m \u001b[38;5;66;03m# set __signature__ attr only for model class, but not for its instances\u001b[39;00m\n\u001b[32m    683\u001b[39m \u001b[38;5;66;03m# (because instances can define `__call__`, and `inspect.signature` shouldn't\u001b[39;00m\n\u001b[32m    684\u001b[39m \u001b[38;5;66;03m# use the `__signature__` attribute and instead generate from `__call__`).\u001b[39;00m\n",
      "\u001b[36mFile \u001b[39m\u001b[32mc:\\Users\\USER\\AppData\\Local\\Programs\\Python\\Python313\\Lib\\site-packages\\pydantic\\plugin\\_schema_validator.py:51\u001b[39m, in \u001b[36mcreate_schema_validator\u001b[39m\u001b[34m(schema, schema_type, schema_type_module, schema_type_name, schema_kind, config, plugin_settings)\u001b[39m\n\u001b[32m     41\u001b[39m     \u001b[38;5;28;01mreturn\u001b[39;00m PluggableSchemaValidator(\n\u001b[32m     42\u001b[39m         schema,\n\u001b[32m     43\u001b[39m         schema_type,\n\u001b[32m   (...)\u001b[39m\u001b[32m     48\u001b[39m         plugin_settings \u001b[38;5;129;01mor\u001b[39;00m {},\n\u001b[32m     49\u001b[39m     )\n\u001b[32m     50\u001b[39m \u001b[38;5;28;01melse\u001b[39;00m:\n\u001b[32m---> \u001b[39m\u001b[32m51\u001b[39m     \u001b[38;5;28;01mreturn\u001b[39;00m \u001b[43mSchemaValidator\u001b[49m\u001b[43m(\u001b[49m\u001b[43mschema\u001b[49m\u001b[43m,\u001b[49m\u001b[43m \u001b[49m\u001b[43mconfig\u001b[49m\u001b[43m)\u001b[49m\n",
      "\u001b[31mSchemaError\u001b[39m: Error building \"model\" validator:\n  SchemaError: Error building \"model-fields\" validator:\n  SchemaError: Field \"username\":\n  SchemaError: Error building \"str\" validator:\n  SchemaError: regex parse error:\n    ^[A-Za-z0-9_-@]+$\n               ^^^\nerror: invalid character class range, the start must be <= the end"
     ]
    }
   ],
   "source": [
    "class User(BaseModel):\n",
    "  username: str = Field(..., min_length=3, max_length=15, pattern=r\"^[A-Za-z0-9_-@]+$\")\n",
    "  post: str = Field(min_length=3, max_length= 280)\n",
    "\n",
    "  # @field_validator(\"username\")\n",
    "  # def username_must_have_at(cls, v):\n",
    "  #   if not v[0].re.search(\"@\"):\n",
    "  #     raise ValueError(\"Username must start with @\")\n",
    "  #   return v"
   ]
  },
  {
   "cell_type": "code",
   "execution_count": null,
   "id": "a97f560a",
   "metadata": {},
   "outputs": [
    {
     "data": {
      "text/plain": [
       "User(username='darrex373', post='You have to come from a Nepo family to be able to do some things in this Nigeria')"
      ]
     },
     "execution_count": 14,
     "metadata": {},
     "output_type": "execute_result"
    }
   ],
   "source": [
    "User(username=\"darrex373\", post=\"You have to come from a Nepo family to be able to do some things in this Nigeria\")"
   ]
  },
  {
   "cell_type": "code",
   "execution_count": null,
   "id": "2a3151f4",
   "metadata": {},
   "outputs": [],
   "source": [
    "def demo_username():\n",
    "  print(\"Username validation\")\n",
    "  try:\n",
    "    User(username=\"@darrex_373\", post=\"My work must not go in vain, it has to be set\")\n",
    "  except ValidationError as e:\n",
    "    print(e)"
   ]
  },
  {
   "cell_type": "code",
   "execution_count": null,
   "id": "d50eb3de",
   "metadata": {},
   "outputs": [
    {
     "name": "stdout",
     "output_type": "stream",
     "text": [
      "Username validation\n",
      "1 validation error for User\n",
      "username\n",
      "  String should match pattern '^[A-Za-z0-9@]+$' [type=string_pattern_mismatch, input_value='@darrex_373', input_type=str]\n",
      "    For further information visit https://errors.pydantic.dev/2.12/v/string_pattern_mismatch\n"
     ]
    }
   ],
   "source": [
    "demo_username()"
   ]
  },
  {
   "cell_type": "code",
   "execution_count": null,
   "id": "1d109a1a",
   "metadata": {},
   "outputs": [],
   "source": [
    "def post_validation():\n",
    "  try:\n",
    "    User(username=\"darrex_373\", post=\"My work must not go in vain, it has to be set\")\n",
    "  except ValidationError as e:\n",
    "    print(e)"
   ]
  },
  {
   "cell_type": "code",
   "execution_count": null,
   "id": "36005e4a",
   "metadata": {},
   "outputs": [
    {
     "name": "stdout",
     "output_type": "stream",
     "text": [
      "1 validation error for User\n",
      "username\n",
      "  String should match pattern '^[A-Za-z0-9@]+$' [type=string_pattern_mismatch, input_value='darrex_373', input_type=str]\n",
      "    For further information visit https://errors.pydantic.dev/2.12/v/string_pattern_mismatch\n"
     ]
    }
   ],
   "source": [
    "post_validation()"
   ]
  }
 ],
 "metadata": {
  "kernelspec": {
   "display_name": "Python 3",
   "language": "python",
   "name": "python3"
  },
  "language_info": {
   "codemirror_mode": {
    "name": "ipython",
    "version": 3
   },
   "file_extension": ".py",
   "mimetype": "text/x-python",
   "name": "python",
   "nbconvert_exporter": "python",
   "pygments_lexer": "ipython3",
   "version": "3.13.7"
  }
 },
 "nbformat": 4,
 "nbformat_minor": 5
}
