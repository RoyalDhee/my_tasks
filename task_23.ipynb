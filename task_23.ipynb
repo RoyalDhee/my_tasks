{
 "cells": [
  {
   "cell_type": "code",
   "execution_count": 1,
   "id": "bf2c7450",
   "metadata": {},
   "outputs": [],
   "source": [
    "# importing the libraries\n",
    "import pydantic\n",
    "import typing\n",
    "from pydantic import BaseModel, Field, field_validator, ValidationError\n"
   ]
  },
  {
   "cell_type": "code",
   "execution_count": null,
   "id": "4e87010c",
   "metadata": {},
   "outputs": [],
   "source": [
    "# Creating class of user\n",
    "class User(BaseModel):\n",
    "  username: str = Field(..., min_length=3, max_length=15, pattern=r\"^[A-Za-z0-9-_@]+$\")\n",
    "  post: str = Field(min_length=3, max_length= 280)\n",
    "\n",
    "# creating the custom validator for username\n",
    "  @field_validator(\"username\")\n",
    "  def username_must_have_at(cls, v):\n",
    "    if not v[0].startswith(\"@\"):\n",
    "      raise ValueError(\"Username must start with @\")\n",
    "    return v"
   ]
  },
  {
   "cell_type": "code",
   "execution_count": null,
   "id": "a97f560a",
   "metadata": {},
   "outputs": [
    {
     "ename": "ValidationError",
     "evalue": "1 validation error for User\nusername\n  Value error, Username must start with @ [type=value_error, input_value='darrex373', input_type=str]\n    For further information visit https://errors.pydantic.dev/2.12/v/value_error",
     "output_type": "error",
     "traceback": [
      "\u001b[31m---------------------------------------------------------------------------\u001b[39m",
      "\u001b[31mValidationError\u001b[39m                           Traceback (most recent call last)",
      "\u001b[36mCell\u001b[39m\u001b[36m \u001b[39m\u001b[32mIn[17]\u001b[39m\u001b[32m, line 1\u001b[39m\n\u001b[32m----> \u001b[39m\u001b[32m1\u001b[39m \u001b[43mUser\u001b[49m\u001b[43m(\u001b[49m\u001b[43musername\u001b[49m\u001b[43m=\u001b[49m\u001b[33;43m\"\u001b[39;49m\u001b[33;43mdarrex373\u001b[39;49m\u001b[33;43m\"\u001b[39;49m\u001b[43m,\u001b[49m\u001b[43m \u001b[49m\u001b[43mpost\u001b[49m\u001b[43m=\u001b[49m\u001b[33;43m\"\u001b[39;49m\u001b[33;43mYou have to come from a Nepo family to be able to do some things in this Nigeria\u001b[39;49m\u001b[33;43m\"\u001b[39;49m\u001b[43m)\u001b[49m\n",
      "\u001b[36mFile \u001b[39m\u001b[32mc:\\Users\\USER\\AppData\\Local\\Programs\\Python\\Python313\\Lib\\site-packages\\pydantic\\main.py:250\u001b[39m, in \u001b[36mBaseModel.__init__\u001b[39m\u001b[34m(self, **data)\u001b[39m\n\u001b[32m    248\u001b[39m \u001b[38;5;66;03m# `__tracebackhide__` tells pytest and some other tools to omit this function from tracebacks\u001b[39;00m\n\u001b[32m    249\u001b[39m __tracebackhide__ = \u001b[38;5;28;01mTrue\u001b[39;00m\n\u001b[32m--> \u001b[39m\u001b[32m250\u001b[39m validated_self = \u001b[38;5;28;43mself\u001b[39;49m\u001b[43m.\u001b[49m\u001b[43m__pydantic_validator__\u001b[49m\u001b[43m.\u001b[49m\u001b[43mvalidate_python\u001b[49m\u001b[43m(\u001b[49m\u001b[43mdata\u001b[49m\u001b[43m,\u001b[49m\u001b[43m \u001b[49m\u001b[43mself_instance\u001b[49m\u001b[43m=\u001b[49m\u001b[38;5;28;43mself\u001b[39;49m\u001b[43m)\u001b[49m\n\u001b[32m    251\u001b[39m \u001b[38;5;28;01mif\u001b[39;00m \u001b[38;5;28mself\u001b[39m \u001b[38;5;129;01mis\u001b[39;00m \u001b[38;5;129;01mnot\u001b[39;00m validated_self:\n\u001b[32m    252\u001b[39m     warnings.warn(\n\u001b[32m    253\u001b[39m         \u001b[33m'\u001b[39m\u001b[33mA custom validator is returning a value other than `self`.\u001b[39m\u001b[38;5;130;01m\\n\u001b[39;00m\u001b[33m'\u001b[39m\n\u001b[32m    254\u001b[39m         \u001b[33m\"\u001b[39m\u001b[33mReturning anything other than `self` from a top level model validator isn\u001b[39m\u001b[33m'\u001b[39m\u001b[33mt supported when validating via `__init__`.\u001b[39m\u001b[38;5;130;01m\\n\u001b[39;00m\u001b[33m\"\u001b[39m\n\u001b[32m    255\u001b[39m         \u001b[33m'\u001b[39m\u001b[33mSee the `model_validator` docs (https://docs.pydantic.dev/latest/concepts/validators/#model-validators) for more details.\u001b[39m\u001b[33m'\u001b[39m,\n\u001b[32m    256\u001b[39m         stacklevel=\u001b[32m2\u001b[39m,\n\u001b[32m    257\u001b[39m     )\n",
      "\u001b[31mValidationError\u001b[39m: 1 validation error for User\nusername\n  Value error, Username must start with @ [type=value_error, input_value='darrex373', input_type=str]\n    For further information visit https://errors.pydantic.dev/2.12/v/value_error"
     ]
    }
   ],
   "source": [
    "# Showing that the custom validator works, expected error\n",
    "User(username=\"darrex373\", post=\"You have to come from a Nepo family to be able to do some things in this Nigeria\")"
   ]
  },
  {
   "cell_type": "code",
   "execution_count": 3,
   "id": "25b69dca",
   "metadata": {},
   "outputs": [
    {
     "data": {
      "text/plain": [
       "User(username='@darrex373', post='You have to come from a Nepo family to be able to do some things in this Nigeria')"
      ]
     },
     "execution_count": 3,
     "metadata": {},
     "output_type": "execute_result"
    }
   ],
   "source": [
    "# inputting what is expected\n",
    "User(username=\"@darrex373\", post=\"You have to come from a Nepo family to be able to do some things in this Nigeria\")"
   ]
  },
  {
   "cell_type": "code",
   "execution_count": 19,
   "id": "2a3151f4",
   "metadata": {},
   "outputs": [],
   "source": [
    "def demo_username():\n",
    "  print(\"Username validation\")\n",
    "  try:\n",
    "    User(username=\"@darrex_373\", post=\"My work must not go in vain, it has to be set\")\n",
    "  except ValidationError as e:\n",
    "    print(e)"
   ]
  },
  {
   "cell_type": "code",
   "execution_count": 20,
   "id": "d50eb3de",
   "metadata": {},
   "outputs": [
    {
     "name": "stdout",
     "output_type": "stream",
     "text": [
      "Username validation\n"
     ]
    }
   ],
   "source": [
    "demo_username()"
   ]
  },
  {
   "cell_type": "code",
   "execution_count": 4,
   "id": "1d109a1a",
   "metadata": {},
   "outputs": [],
   "source": [
    "# Post validation to show that user post must not be more than 280 which is x maximum for standard user\n",
    "\n",
    "def post_validation():\n",
    "  try:\n",
    "    User(username=\"darrex_373\", post=\"My work must not go in vain, it has to be setMy work must not go in vain, it has to be setMy work must not go in vain, it has to be setMy work must not go in vain, it has to be setMy work must not go in vain, it has to be setMy work must not go in vain, it has to be setMy work must not go in vain, it has to be setMy work must not go in vain, it has to be setMy work must not go in vain, it has to be setMy work must not go in vain, it has to be setMy work must not go in vain, it has to be setMy work must not go in vain, it has to be setMy work must not go in vain, it has to be setMy work must not go in vain, it has to be setMy work must not go in vain, it has to be setMy work must not go in vain, it has to be set\")\n",
    "  except ValidationError as e:\n",
    "    print(e)"
   ]
  },
  {
   "cell_type": "code",
   "execution_count": 22,
   "id": "36005e4a",
   "metadata": {},
   "outputs": [
    {
     "name": "stdout",
     "output_type": "stream",
     "text": [
      "2 validation errors for User\n",
      "username\n",
      "  Value error, Username must start with @ [type=value_error, input_value='darrex_373', input_type=str]\n",
      "    For further information visit https://errors.pydantic.dev/2.12/v/value_error\n",
      "post\n",
      "  String should have at most 280 characters [type=string_too_long, input_value='My work must not go in v... vain, it has to be set', input_type=str]\n",
      "    For further information visit https://errors.pydantic.dev/2.12/v/string_too_long\n"
     ]
    }
   ],
   "source": [
    "post_validation()"
   ]
  }
 ],
 "metadata": {
  "kernelspec": {
   "display_name": "Python 3",
   "language": "python",
   "name": "python3"
  },
  "language_info": {
   "codemirror_mode": {
    "name": "ipython",
    "version": 3
   },
   "file_extension": ".py",
   "mimetype": "text/x-python",
   "name": "python",
   "nbconvert_exporter": "python",
   "pygments_lexer": "ipython3",
   "version": "3.13.7"
  }
 },
 "nbformat": 4,
 "nbformat_minor": 5
}
